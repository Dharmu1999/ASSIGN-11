{
 "cells": [
  {
   "cell_type": "markdown",
   "id": "b9650265-cfc4-408d-9d3c-027244d84d16",
   "metadata": {},
   "source": [
    "## Q1. Which function is used to open a file? What are the different modes of opening a file? Explain each mode of file opening ?"
   ]
  },
  {
   "cell_type": "markdown",
   "id": "92bb0103-7b8e-4cec-885d-6bed91b9a251",
   "metadata": {},
   "source": [
    "# ANS\n",
    "The open() function takes two parameters: the name of the file and the mode in which the file is to be opened. The file name is a string value that represents the name of the file to be opened, including the path to the file.\n",
    "\n",
    "The second parameter, mode, is an optional parameter that specifies the purpose of opening the file. There are several modes in which a file can be opened, which are as follows:\n",
    "\n",
    "r (read): This mode is used when you want to read the contents of a file. In this mode, the file is opened in read-only mode, and you cannot modify the file. If the file does not exist, an error will be raised.\n",
    "\n",
    "w (write): This mode is used when you want to write data to a file. In this mode, the file is opened in write-only mode, and if the file already exists, its contents will be overwritten. If the file does not exist, a new file will be created.\n",
    "\n",
    "a (append): This mode is used when you want to append data to a file. In this mode, the file is opened in write-only mode, and if the file already exists, the data will be appended to the end of the file. If the file does not exist, a new file will be created.\n",
    "\n",
    "x (exclusive creation): This mode is used when you want to create a new file, but only if it does not already exist. If the file exists, an error will be raised.\n",
    "\n",
    "b (binary mode): This mode is used when you want to read or write binary data to a file. In this mode, the file is opened in binary mode, which means that the data is read or written as bytes.\n",
    "\n",
    "t (text mode): This mode is used when you want to read or write text data to a file. In this mode, the file is opened in text mode, which means that the data is read or written as strings."
   ]
  },
  {
   "cell_type": "markdown",
   "id": "8972076e-1716-41d0-85ae-bffdc346d29e",
   "metadata": {},
   "source": [
    "## Q2. Why close() function is used? Why is it important to close a file?\n",
    "\n"
   ]
  },
  {
   "cell_type": "markdown",
   "id": "db0acfbc-3aa5-4cc0-aff6-76664b00d0ab",
   "metadata": {},
   "source": [
    "# ANS\n",
    "The close() function is used in Python to close an opened file. When a file is opened using the open() function, system resources such as file descriptors and memory are allocated to the file. If these resources are not released properly, it can cause issues with file operations and even cause memory leaks.\n",
    "\n",
    "Therefore, it is important to close a file after you have finished reading from or writing to it. When you call the close() function, the file is closed and all the system resources that were allocated to it are released. This ensures that the file is properly saved and that any memory used by the file is freed up for use by other parts of your program.\n",
    "\n",
    "Failing to close a file may also result in data corruption. For example, if you have written data to a file and you do not close the file, the data may not be written to the file correctly, resulting in corrupted or incomplete data.\n"
   ]
  },
  {
   "cell_type": "markdown",
   "id": "94ab9e51-5984-453e-a579-838e5cced8f8",
   "metadata": {},
   "source": [
    "## Q3. Write a python program to create a text file. Write ‘I want to become a Data Scientist’ in that file. Then, close the file. Open this file and read the content of the file ?"
   ]
  },
  {
   "cell_type": "code",
   "execution_count": 3,
   "id": "5dccee8c-a78a-44b2-bfdd-f0a7d452607c",
   "metadata": {},
   "outputs": [
    {
     "name": "stdout",
     "output_type": "stream",
     "text": [
      "I want to become a Data Scientist\n"
     ]
    }
   ],
   "source": [
    "# ANS\n",
    "file = open(\"my_file.txt\", \"w\")\n",
    "\n",
    "\n",
    "file.write(\"I want to become a Data Scientist\")\n",
    "\n",
    "\n",
    "file.close()\n",
    "\n",
    "\n",
    "file = open(\"my_file.txt\", \"r\")\n",
    "\n",
    "file_contents = file.read()\n",
    "\n",
    "\n",
    "print(file_contents)\n",
    "\n",
    "\n",
    "file.close()\n"
   ]
  },
  {
   "cell_type": "markdown",
   "id": "b804cdad-e22d-4720-8f4f-db03937c9c3a",
   "metadata": {},
   "source": [
    "# Q4. Explain the following with python code: read(), readline() and readlines() ?"
   ]
  },
  {
   "cell_type": "code",
   "execution_count": 4,
   "id": "265eb32e-1685-4f1f-8ba2-f9a4e3b47769",
   "metadata": {},
   "outputs": [
    {
     "name": "stdout",
     "output_type": "stream",
     "text": [
      "I want to become a Data Scientist\n"
     ]
    }
   ],
   "source": [
    "# ANS\n",
    "file = open(\"my_file.txt\", \"r\")\n",
    "\n",
    "file_contents = file.read()\n",
    "\n",
    "file.close()\n",
    "\n",
    "print(file_contents)\n"
   ]
  },
  {
   "cell_type": "code",
   "execution_count": 9,
   "id": "3bd52af1-d735-4add-a7cb-0e3138e36b1f",
   "metadata": {},
   "outputs": [
    {
     "name": "stdout",
     "output_type": "stream",
     "text": [
      "I want to become a Data Scientist\n",
      "\n"
     ]
    }
   ],
   "source": [
    "\n",
    "file = open(\"my_file.txt\", \"r\")\n",
    "\n",
    "\n",
    "line1 = file.readline()\n",
    "\n",
    "\n",
    "line2 = file.readline()\n",
    "\n",
    "\n",
    "file.close()\n",
    "\n",
    "print(line1) \n",
    "print(line2)\n"
   ]
  },
  {
   "cell_type": "code",
   "execution_count": 10,
   "id": "b9a923f3-5ab1-4eaf-beb2-cbc54f022511",
   "metadata": {},
   "outputs": [
    {
     "name": "stdout",
     "output_type": "stream",
     "text": [
      "I want to become a Data Scientist\n"
     ]
    }
   ],
   "source": [
    "file = open(\"my_file.txt\", \"r\")\n",
    "\n",
    "lines = file.readlines()\n",
    "\n",
    "file.close()\n",
    "\n",
    "for line in lines:\n",
    "    print(line)\n"
   ]
  },
  {
   "cell_type": "markdown",
   "id": "b461bbd3-c6a9-4875-b3bb-02bcc0dce842",
   "metadata": {},
   "source": [
    "# Q5. Explain why with statement is used with open(). What is the advantage of using with statement and open() together?"
   ]
  },
  {
   "cell_type": "markdown",
   "id": "752dba5a-75d5-4d54-98ec-a81e938f3ef8",
   "metadata": {},
   "source": [
    "# ANS\n",
    "In Python, the with statement is used to ensure that a file is closed properly after it has been opened for reading or writing. The with statement works with the open() function to provide a convenient way to handle files, and has several advantages over using open() and close() directly."
   ]
  },
  {
   "cell_type": "code",
   "execution_count": 11,
   "id": "88220494-a29c-4381-9c08-50e9aba73bb5",
   "metadata": {},
   "outputs": [
    {
     "name": "stdout",
     "output_type": "stream",
     "text": [
      "I want to become a Data Scientist\n"
     ]
    }
   ],
   "source": [
    "with open(\"my_file.txt\", \"r\") as file:\n",
    "    file_contents = file.read()\n",
    "    print(file_contents)\n"
   ]
  },
  {
   "cell_type": "markdown",
   "id": "2f267b55-eb8d-4f76-9d46-1b8286678cb5",
   "metadata": {},
   "source": [
    "## Q6. Explain the write() and writelines() functions. Give a suitable example ?"
   ]
  },
  {
   "cell_type": "code",
   "execution_count": 14,
   "id": "957410bc-8cb5-433b-999e-fc88a5ae6623",
   "metadata": {},
   "outputs": [],
   "source": [
    "# ANS\n",
    "# Open the file for writing\n",
    "file = open(\"my_file.txt\", \"w\")\n",
    "\n",
    "# Write a string to the file\n",
    "file.write(\"Hello, world!\")\n",
    "\n",
    "# Close the file\n",
    "file.close()\n"
   ]
  },
  {
   "cell_type": "code",
   "execution_count": 15,
   "id": "242d257a-8a2a-4911-ad54-8a79cdbebb0b",
   "metadata": {},
   "outputs": [],
   "source": [
    "# Open the file for writing\n",
    "file = open(\"my_file.txt\", \"w\")\n",
    "\n",
    "# Write a list of strings to the file\n",
    "lines = [\"apple\\n\", \"banana\\n\", \"orange\\n\"]\n",
    "file.writelines(lines)\n",
    "\n",
    "# Close the file\n",
    "file.close()\n"
   ]
  },
  {
   "cell_type": "markdown",
   "id": "f7925cb2-323d-4517-bd5a-795c32fb883c",
   "metadata": {},
   "source": [
    "## THANKS"
   ]
  },
  {
   "cell_type": "code",
   "execution_count": null,
   "id": "af92597a-e743-4f8c-8505-4f14306fd52c",
   "metadata": {},
   "outputs": [],
   "source": []
  }
 ],
 "metadata": {
  "kernelspec": {
   "display_name": "Python 3 (ipykernel)",
   "language": "python",
   "name": "python3"
  },
  "language_info": {
   "codemirror_mode": {
    "name": "ipython",
    "version": 3
   },
   "file_extension": ".py",
   "mimetype": "text/x-python",
   "name": "python",
   "nbconvert_exporter": "python",
   "pygments_lexer": "ipython3",
   "version": "3.10.8"
  }
 },
 "nbformat": 4,
 "nbformat_minor": 5
}
